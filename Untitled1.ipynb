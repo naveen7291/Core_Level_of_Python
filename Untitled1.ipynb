{
 "cells": [
  {
   "cell_type": "raw",
   "metadata": {},
   "source": [
    "How to write 6 types of headings in html\n",
    "what are the tags"
   ]
  },
  {
   "cell_type": "markdown",
   "metadata": {},
   "source": [
    "<h1> first level of heading</h1>"
   ]
  },
  {
   "cell_type": "markdown",
   "metadata": {},
   "source": [
    "# heading\n",
    "---\n",
    "## heading\n",
    "### heading\n",
    "#### heading\n",
    "##### heading\n",
    "------------------------------------------\n",
    "###### heading\n",
    "\n"
   ]
  },
  {
   "cell_type": "markdown",
   "metadata": {},
   "source": [
    "__Myla Ram Reddy,it is in bold__\n",
    "\n",
    "_Myla Ram Reddy it is in italic_\n",
    "\n",
    "~~Pathanjali medcine for covid~~"
   ]
  },
  {
   "cell_type": "markdown",
   "metadata": {},
   "source": [
    "* item\n",
    "* item\n",
    "* item"
   ]
  },
  {
   "cell_type": "markdown",
   "metadata": {},
   "source": [
    "1. first item\n",
    "1. second item\n",
    "100. third item"
   ]
  },
  {
   "cell_type": "markdown",
   "metadata": {},
   "source": [
    "* AI Course\n",
    "    1. python\n",
    "    2. analysis\n",
    "    3. ML\n",
    "    4. DL\n",
    "    5. NLP"
   ]
  },
  {
   "cell_type": "markdown",
   "metadata": {},
   "source": [
    "[Learn Basic python code free](https://datahexa.com/course/python-basic-level-1/)"
   ]
  },
  {
   "cell_type": "markdown",
   "metadata": {},
   "source": [
    "![](data:image/jpeg;base64,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)"
   ]
  },
  {
   "cell_type": "code",
   "execution_count": null,
   "metadata": {},
   "outputs": [],
   "source": []
  }
 ],
 "metadata": {
  "kernelspec": {
   "display_name": "Python 3",
   "language": "python",
   "name": "python3"
  },
  "language_info": {
   "codemirror_mode": {
    "name": "ipython",
    "version": 3
   },
   "file_extension": ".py",
   "mimetype": "text/x-python",
   "name": "python",
   "nbconvert_exporter": "python",
   "pygments_lexer": "ipython3",
   "version": "3.6.9"
  }
 },
 "nbformat": 4,
 "nbformat_minor": 4
}
